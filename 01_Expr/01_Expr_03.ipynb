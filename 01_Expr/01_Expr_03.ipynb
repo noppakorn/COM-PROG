{
 "cells": [
  {
   "cell_type": "code",
   "execution_count": 1,
   "metadata": {},
   "outputs": [],
   "source": [
    "import math"
   ]
  },
  {
   "cell_type": "code",
   "execution_count": 5,
   "metadata": {},
   "outputs": [
    {
     "name": "stdout",
     "output_type": "stream",
     "text": [
      "3.216814\n"
     ]
    }
   ],
   "source": [
    "print(round((math.pi-(math.factorial(10)/8**8)+(math.log(9.7))**((7/math.sqrt(71))-math.sin(math.radians(40))))/(1.2)**2.3**(1/3),6))"
   ]
  }
 ],
 "metadata": {
  "kernelspec": {
   "display_name": "Python 3.8 (XPython)",
   "language": "python",
   "name": "xpython"
  },
  "language_info": {
   "file_extension": ".py",
   "mimetype": "text/x-python",
   "name": "python",
   "version": "3.8.6"
  }
 },
 "nbformat": 4,
 "nbformat_minor": 4
}
