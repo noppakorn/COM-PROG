{
 "cells": [
  {
   "cell_type": "code",
   "execution_count": 1,
   "metadata": {},
   "outputs": [],
   "source": [
    "import math"
   ]
  },
  {
   "cell_type": "code",
   "execution_count": 6,
   "metadata": {},
   "outputs": [
    {
     "name": "stdin",
     "output_type": "stream",
     "text": [
      " 60\n",
      " 170\n"
     ]
    },
    {
     "name": "stdout",
     "output_type": "stream",
     "text": [
      "1.6832508230603465\n",
      "1.680428314258862\n",
      "1.6863370568707923\n"
     ]
    }
   ],
   "source": [
    "w = float(input())\n",
    "h = float(input())\n",
    "print(math.sqrt(w*h)/60)\n",
    "print(0.024265*(w**0.5378)*(h**0.3964))\n",
    "print(0.0333*(w**(0.6157-0.0188*math.log10(w)))*h**0.3)"
   ]
  }
 ],
 "metadata": {
  "kernelspec": {
   "display_name": "Python 3.8 (XPython)",
   "language": "python",
   "name": "xpython"
  },
  "language_info": {
   "file_extension": ".py",
   "mimetype": "text/x-python",
   "name": "python",
   "version": "3.8.6"
  }
 },
 "nbformat": 4,
 "nbformat_minor": 4
}
