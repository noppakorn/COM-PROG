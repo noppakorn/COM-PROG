{
 "cells": [
  {
   "cell_type": "code",
   "execution_count": 1,
   "metadata": {},
   "outputs": [
    {
     "name": "stdout",
     "output_type": "stream",
     "text": [
      "2938402734091273094162387451928736401926340971234\n",
      "+\n",
      "9208209384928743098273495872039847509273497\n",
      "=\n",
      "2938411942300658022905485725424608441773850244731\n"
     ]
    }
   ],
   "source": [
    "print(\"2938402734091273094162387451928736401926340971234\")\n",
    "print(\"+\")\n",
    "print(\"9208209384928743098273495872039847509273497\")\n",
    "print(\"=\")\n",
    "print(2938402734091273094162387451928736401926340971234+9208209384928743098273495872039847509273497)"
   ]
  }
 ],
 "metadata": {
  "kernelspec": {
   "display_name": "Python 3.8 (XPython)",
   "language": "python",
   "name": "xpython"
  },
  "language_info": {
   "file_extension": ".py",
   "mimetype": "text/x-python",
   "name": "python",
   "version": "3.8.6"
  }
 },
 "nbformat": 4,
 "nbformat_minor": 4
}
