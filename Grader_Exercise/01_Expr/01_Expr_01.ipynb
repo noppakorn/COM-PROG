{
 "cells": [
  {
   "cell_type": "code",
   "execution_count": 1,
   "metadata": {},
   "outputs": [],
   "source": [
    "import math"
   ]
  },
  {
   "cell_type": "code",
   "execution_count": 26,
   "metadata": {},
   "outputs": [
    {
     "name": "stdin",
     "output_type": "stream",
     "text": [
      " 50\n"
     ]
    },
    {
     "name": "stdout",
     "output_type": "stream",
     "text": [
      "3.0414009534599554e+64\n",
      "3.0414093877504934e+64\n"
     ]
    }
   ],
   "source": [
    "n = int(input())\n",
    "print(math.sqrt(2*math.pi)*(n**(n+0.5))*(math.e**(-n+(1/(12*n+1)))))\n",
    "print(math.sqrt(2*math.pi)*(n**(n+0.5))*(math.e**(-n+(1/(12*n)))))"
   ]
  }
 ],
 "metadata": {
  "kernelspec": {
   "display_name": "Python 3.8 (XPython)",
   "language": "python",
   "name": "xpython"
  },
  "language_info": {
   "file_extension": ".py",
   "mimetype": "text/x-python",
   "name": "python",
   "version": "3.8.6"
  }
 },
 "nbformat": 4,
 "nbformat_minor": 4
}
