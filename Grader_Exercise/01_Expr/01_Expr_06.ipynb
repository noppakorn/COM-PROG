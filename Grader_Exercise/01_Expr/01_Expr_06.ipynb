{
 "cells": [
  {
   "cell_type": "code",
   "execution_count": null,
   "metadata": {},
   "outputs": [],
   "source": [
    "h1 = int(input())\n",
    "m1 = int(input())\n",
    "s1 = int(input())\n",
    "h2 = int(input())\n",
    "m2 = int(input())\n",
    "s2 = int(input())\n",
    "t1 = h1*60*60 + m1*60 + s1\n",
    "t2 = h2*60*60 + m2*60 + s2\n",
    "dt = (t2 - t1) % (24*60*60)\n",
    "dh = dt // (60*60)\n",
    "dt -= dh * 60*60\n",
    "dm = dt // 60\n",
    "dt -= dm*60\n",
    "ds = dt\n",
    "print(str(dh)+\":\"+str(dm)+\":\"+str(ds))"
   ]
  }
 ],
 "metadata": {
  "kernelspec": {
   "display_name": "Python 3.8 (XPython)",
   "language": "python",
   "name": "xpython"
  },
  "language_info": {
   "file_extension": ".py",
   "mimetype": "text/x-python",
   "name": "python",
   "version": "3.8.6"
  }
 },
 "nbformat": 4,
 "nbformat_minor": 4
}
