{
 "cells": [
  {
   "cell_type": "code",
   "execution_count": 2,
   "metadata": {},
   "outputs": [
    {
     "name": "stdin",
     "output_type": "stream",
     "text": [
      " [1, 2, 3]\n",
      " [2, 3, 4]\n"
     ]
    },
    {
     "name": "stdout",
     "output_type": "stream",
     "text": [
      "[1.0, 2.0, 3.0] + [2.0, 3.0, 4.0] = [3.0, 5.0, 7.0]\n"
     ]
    }
   ],
   "source": [
    "uin = str(input())[1:-1].split(', ')\n",
    "u = [float(i) for i in uin]\n",
    "vin = str(input())[1:-1].split(', ')\n",
    "v = [float(i) for i in vin]\n",
    "print(u,'+',v,'=',[u[0]+v[0],u[1]+v[1],u[2]+v[2]])"
   ]
  }
 ],
 "metadata": {
  "kernelspec": {
   "display_name": "Python 3.8 (XPython)",
   "language": "python",
   "name": "xpython"
  },
  "language_info": {
   "file_extension": ".py",
   "mimetype": "text/x-python",
   "name": "python",
   "version": "3.8.6"
  }
 },
 "nbformat": 4,
 "nbformat_minor": 4
}
