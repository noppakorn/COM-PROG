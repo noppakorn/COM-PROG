{
 "cells": [
  {
   "cell_type": "code",
   "execution_count": 14,
   "metadata": {},
   "outputs": [
    {
     "name": "stdout",
     "output_type": "stream",
     "text": [
      "813C\n"
     ]
    }
   ],
   "source": [
    "x = str(input())\n",
    "o1 = x[3::7]\n",
    "o2 = x[7::5]\n",
    "o3 = int(o1) + int(o2) + 10000\n",
    "o4 = str(o3)[-4:-1]\n",
    "o5 = (int(o4[0])+int(o4[1])+int(o4[2])) % 10 + 1\n",
    "o6 = ['A', 'B', 'C', 'D', 'E', 'F', 'G', 'H', 'I', 'J'][o5-1]\n",
    "print(o4+o6)"
   ]
  }
 ],
 "metadata": {
  "kernelspec": {
   "display_name": "Python 3.8 (XPython)",
   "language": "python",
   "name": "xpython"
  },
  "language_info": {
   "file_extension": ".py",
   "mimetype": "text/x-python",
   "name": "python",
   "version": "3.8.6"
  }
 },
 "nbformat": 4,
 "nbformat_minor": 4
}
