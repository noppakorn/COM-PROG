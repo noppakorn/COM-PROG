{
 "cells": [
  {
   "cell_type": "code",
   "execution_count": null,
   "metadata": {},
   "outputs": [],
   "source": [
    "from math import gcd\n",
    "\n",
    "x = str(input()).split(',')\n",
    "dyn = int(x[0]+x[1]+x[2]) - int(x[0]+x[1])\n",
    "dyd = (10**(len(x[1])+len(x[2]))) - (10**len(x[1]))\n",
    "print(dyn//gcd(dyn,dyd),'/',dyd//gcd(dyn,dyd))"
   ]
  }
 ],
 "metadata": {
  "kernelspec": {
   "display_name": "Python 3.8 (XPython)",
   "language": "python",
   "name": "xpython"
  },
  "language_info": {
   "file_extension": ".py",
   "mimetype": "text/x-python",
   "name": "python",
   "version": "3.8.6"
  }
 },
 "nbformat": 4,
 "nbformat_minor": 4
}
