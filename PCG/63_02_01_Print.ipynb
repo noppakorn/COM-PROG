{
 "cells": [
  {
   "cell_type": "code",
   "execution_count": 1,
   "metadata": {},
   "outputs": [
    {
     "name": "stdout",
     "output_type": "stream",
     "text": [
      "Hello\n"
     ]
    }
   ],
   "source": [
    "print('Hello')"
   ]
  },
  {
   "cell_type": "code",
   "execution_count": 2,
   "metadata": {},
   "outputs": [
    {
     "name": "stdout",
     "output_type": "stream",
     "text": [
      "+-----------------------+\n",
      "|  ____ _______   ____  |\n",
      "| //   |\\\\  _  \\ //   | |\n",
      "|  ||  |// /_\\  \\ ||  | |\n",
      "|  ||  |\\\\ \\_/   \\||  | |\n",
      "|  ||__| \\\\______/||__| |\n",
      "|                       |\n",
      "|   V E R Y   E A S Y   |\n",
      "+-----------------------+\n"
     ]
    }
   ],
   "source": [
    "print(\"+-----------------------+\")\n",
    "print(\"|  ____ _______   ____  |\")\n",
    "print(\"| //   |\\\\\\\\  _  \\\\ //   | |\")\n",
    "print(\"|  ||  |// /_\\  \\\\ ||  | |\")\n",
    "print(\"|  ||  |\\\\\\\\ \\_/   \\\\||  | |\")\n",
    "print(\"|  ||__| \\\\\\\\______/||__| |\")\n",
    "print(\"|                       |\")\n",
    "print(\"|   V E R Y   E A S Y   |\")\n",
    "print(\"+-----------------------+\")"
   ]
  }
 ],
 "metadata": {
  "kernelspec": {
   "display_name": "Python 3.8 (XPython)",
   "language": "python",
   "name": "xpython"
  },
  "language_info": {
   "file_extension": ".py",
   "mimetype": "text/x-python",
   "name": "python",
   "version": "3.8.6"
  }
 },
 "nbformat": 4,
 "nbformat_minor": 4
}
